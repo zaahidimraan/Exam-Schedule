{
 "cells": [
  {
   "cell_type": "code",
   "execution_count": 1,
   "id": "c927d868",
   "metadata": {},
   "outputs": [],
   "source": [
    "##############################################################################################################################\n",
    "\n",
    "##############################################################################################################################\n",
    "\n",
    "from copy import deepcopy                        # Will be used to deep copy\n",
    "import random                                    # Will be used for randomization\n",
    "from math import exp                             # will be used for probability calculation\n",
    "import numpy as np\n",
    "import math"
   ]
  },
  {
   "cell_type": "code",
   "execution_count": 2,
   "id": "722a0036",
   "metadata": {},
   "outputs": [
    {
     "name": "stdout",
     "output_type": "stream",
     "text": [
      "Enter Number of Cousres: 5\n",
      "Enter Number of Exam Halls: 2\n",
      "5 2\n"
     ]
    }
   ],
   "source": [
    "#Taking Cousre count and Exam Hall count from user\n",
    "cousreCount = input(\"Enter Number of Cousres: \")\n",
    "hallCount = input(\"Enter Number of Exam Halls: \")\n",
    "cousreCount=int(cousreCount)\n",
    "hallCount=int(hallCount)\n",
    "print(cousreCount,hallCount)"
   ]
  },
  {
   "cell_type": "code",
   "execution_count": 3,
   "id": "781b67c2",
   "metadata": {},
   "outputs": [
    {
     "name": "stdout",
     "output_type": "stream",
     "text": [
      "[[1, [1, 2, 3, 4]], [2, [1, 2, 3, 4]], [3, [1, 2, 3, 4]], [4, [1, 2]], [5, [2, 3, 4]]]\n"
     ]
    }
   ],
   "source": [
    "#Findig the time slots for which a cousre can be secdule  randomly\n",
    "#Time slots here suppose as the ID which means if cousre 1 have time slots 1,2,3 and cousre 2 have time slots 2,3,4. it means They have conficts\n",
    "#if they assigned to same hall at the same time slots\n",
    "#if they are assign to same hall at different time sots then\n",
    "#they do not have conflicts\n",
    "cousreAllocation = []\n",
    "def cousreAllocate(cousreCount):\n",
    "    for i in range(cousreCount):\n",
    "        start=random.randint(1,int(cousreCount/2))\n",
    "        end=random.randint(start,cousreCount)\n",
    "        timeSlotAllocation=[]\n",
    "        j=start\n",
    "        while j<=end:\n",
    "            timeSlotAllocation.append(j)\n",
    "            j+=1\n",
    "        cousreAllocation.append([i+1,timeSlotAllocation])\n",
    "\n",
    "cousreAllocate(cousreCount)\n",
    "print(cousreAllocation)"
   ]
  },
  {
   "cell_type": "code",
   "execution_count": 4,
   "id": "7a857f3e",
   "metadata": {},
   "outputs": [],
   "source": [
    "def printTimeTable(timeTable):\n",
    "    for i in range(len(timeTable)):\n",
    "       min=i\n",
    "       j=i\n",
    "       while j<len(timeTable):\n",
    "          if timeTable[j][1]<timeTable[min][1]:\n",
    "             temp=timeTable[j]\n",
    "             timeTable[j]=timeTable[min]\n",
    "             timeTable[min]=temp\n",
    "             min=j\n",
    "          j+=1\n",
    "    print('\\n####################################################\\n')\n",
    "    print('\\n--------------------TimeTable-----------------------\\n')\n",
    "    print('\\n####################################################\\n')\n",
    "    print('\\n|   Cousre Name    |    TimeSlot    |     Hall No   |\\n')\n",
    "    for i in range(len(timeTable)):\n",
    "      print('|        C',timeTable[i][0],'      |        T',timeTable[i][1],'    |      H',timeTable[i][2],'    |\\n')"
   ]
  },
  {
   "cell_type": "code",
   "execution_count": 5,
   "id": "98c324af",
   "metadata": {},
   "outputs": [
    {
     "name": "stdout",
     "output_type": "stream",
     "text": [
      "[[1, 5], [2, 5]]\n"
     ]
    }
   ],
   "source": [
    "#finding the time for which hall available randomly\n",
    "hallAllocation = []\n",
    "def hallAllocate(hallCount,cousreCount):\n",
    "    for i in range(hallCount):\n",
    "        hourAvailable=random.randint(1,cousreCount)\n",
    "        hallAllocation.append([i+1,hourAvailable])\n",
    "\n",
    "hallAllocate(hallCount,cousreCount)\n",
    "print(hallAllocation)"
   ]
  },
  {
   "cell_type": "code",
   "execution_count": 6,
   "id": "766def01",
   "metadata": {},
   "outputs": [
    {
     "name": "stdout",
     "output_type": "stream",
     "text": [
      "[[1, 3], [2, 4]]\n"
     ]
    }
   ],
   "source": [
    "#findng the pair of cousre for which student have clashes randomly\n",
    "commonStudent=[]\n",
    "def notAlready(commonStudent,randomTemp,current):\n",
    "    for i in range(len(commonStudent)):\n",
    "        if(commonStudent[i][0]==randomTemp or commonStudent[i][1]==randomTemp or randomTemp==current):\n",
    "            return False\n",
    "    return True\n",
    "\n",
    "        \n",
    "\n",
    "def commonStudentAllocate(cousreCount):\n",
    "    for i in range(random.randint(1,cousreCount)):\n",
    "        randomTemp=random.randint(1,cousreCount)\n",
    "        if notAlready(commonStudent,randomTemp,i+1)  and i+1 != randomTemp:\n",
    "            commonStudent.append([i+1,randomTemp])\n",
    "\n",
    "commonStudentAllocate(cousreCount)\n",
    "print(commonStudent)"
   ]
  },
  {
   "cell_type": "code",
   "execution_count": 7,
   "id": "3c178bf4",
   "metadata": {},
   "outputs": [
    {
     "name": "stdout",
     "output_type": "stream",
     "text": [
      "[[1, 1, 1], [2, 5, 1], [3, 5, 2], [4, 1, 2], [5, 5, 1]]\n"
     ]
    }
   ],
   "source": [
    "#inital assignement of  cousre, timeslots and hall respectively\n",
    "def initialAssignmentOfHall(cousreCount,hallCount):\n",
    "    j=0\n",
    "    initialAssignment=[]\n",
    "    for i in range(cousreCount):\n",
    "        if(j==hallCount):\n",
    "            j=0\n",
    "        initialAssignment.append([i+1,random.randint(1,cousreCount),random.randint(1,hallCount)])\n",
    "        j+=1\n",
    "    return initialAssignment\n",
    "\n",
    "initialAssignment=initialAssignmentOfHall(cousreCount, hallCount)\n",
    "print(initialAssignment)"
   ]
  },
  {
   "cell_type": "code",
   "execution_count": 8,
   "id": "5226db7a",
   "metadata": {},
   "outputs": [],
   "source": [
    "#fuunction to find if follwing slots can to cousre\n",
    "def timeSlotInCousre(cousreAllocation,cousreID,timeSlot):\n",
    "    for i in range(len(cousreAllocation[cousreID-1][1])):\n",
    "        #print(len(cousreAllocation[cousreID-1][1]),cousreID,timeSlot)  #Use for debugging\n",
    "        if cousreAllocation[cousreID-1][1][i] == timeSlot:\n",
    "            return False\n",
    "    return True\n",
    "\n",
    "#function to find that if hall assignement to cousres in the range of hall assignements hours\n",
    "def hallAssignmentFitness(hallID,hallAllocation,initialAssignment):\n",
    "    count=0\n",
    "    for j in range(len(initialAssignment)):\n",
    "        if hallAllocation[hallID-1][0]==initialAssignment[j][2]:\n",
    "            count+=1\n",
    "    if hallAllocation[hallID-1][1]<count:\n",
    "        return count- hallAllocation[hallID-1][1]\n",
    "    return 0\n",
    "\n",
    "#this funtction find that if the same time slots alloted to the different cousre at the same time\n",
    "def hallClashesFinder(initialAssignment):\n",
    "    count=0\n",
    "    for i in range(len(initialAssignment)):\n",
    "        j=i+1\n",
    "        while j <len(initialAssignment):\n",
    "            if initialAssignment[i][2]==initialAssignment[j][2] and initialAssignment[i][1]==initialAssignment[j][1]:\n",
    "                count+=1\n",
    "            j+=1\n",
    "    return count\n",
    "\n",
    "#Cousres have common students having exam at the same time slot\n",
    "def commonStudentFitNessFinder(cousre1,cousre2,initialAssignment):\n",
    "    if initialAssignment[cousre1-1][1]==initialAssignment[cousre2-1][1]:\n",
    "        #print(initialAssignment[cousre1-1][1],initialAssignment[cousre2-1][1])  #for dedugging\n",
    "        return True\n",
    "    return False"
   ]
  },
  {
   "cell_type": "code",
   "execution_count": 9,
   "id": "e6747391",
   "metadata": {},
   "outputs": [
    {
     "name": "stdout",
     "output_type": "stream",
     "text": [
      "[[1, [1, 2, 3, 4]], [2, [1, 2, 3, 4]], [3, [1, 2, 3, 4]], [4, [1, 2]], [5, [2, 3, 4]]]\n",
      "[[1, 3], [2, 4]]\n",
      "[[1, 5], [2, 5]]\n",
      "[[1, 1, 1], [2, 5, 1], [3, 5, 2], [4, 1, 2], [5, 5, 1]]\n",
      "4 zahid\n"
     ]
    }
   ],
   "source": [
    "print(cousreAllocation)  #for debugging\n",
    "print(commonStudent)  #for debugging\n",
    "print(hallAllocation) #for debugging\n",
    "print(initialAssignment) #for debugging\n",
    "#according to this function 0 is the best ans and more than 1 is not the best answer\n",
    "#cousreAllocation,commonStudent,hallAllocation,initialAssignment,cousreCount,hallCount\n",
    "def fitnessFinder(cousreAllocation,commonStudent,hallAllocation,initialAssignment,cousreCount,hallCount):\n",
    "    fitnessError = 0\n",
    "    #this for loop find that if the time slots alloted to the cousre can be assigned to cousre\n",
    "    for i in range(len(initialAssignment)):\n",
    "        if(timeSlotInCousre(cousreAllocation,initialAssignment[i][0],initialAssignment[i][1])):\n",
    "            fitnessError += 1\n",
    "    #this for loop find that if the time slots alloted to the hall can be assigned to hall\n",
    "    for i in range(len(hallAllocation)):\n",
    "        fitnessError +=hallAssignmentFitness(hallAllocation[i][0],hallAllocation,initialAssignment)\n",
    "    #this funtction find that if the same time slots alloted to the different cousre at the same time\n",
    "    fitnessError+=hallClashesFinder(initialAssignment)\n",
    "    #Cousres have common students having exam at the same time slot\n",
    "    for i in range(len(commonStudent)):\n",
    "        #print(i,commonStudent[i][0],commonStudent[i][1]) #for debugging\n",
    "        if commonStudentFitNessFinder(commonStudent[i][0],commonStudent[i][1],initialAssignment):\n",
    "            fitnessError+=1\n",
    "    return fitnessError\n",
    "\n",
    "\n",
    "print(fitnessFinder(cousreAllocation,commonStudent,hallAllocation,initialAssignment,cousreCount,hallCount),'zahid')"
   ]
  },
  {
   "cell_type": "code",
   "execution_count": 10,
   "id": "6fef10ef",
   "metadata": {},
   "outputs": [],
   "source": [
    "#Crossover\n",
    "def CrossOver(cousreAllocation,commonStudent,hallAllocation,listPopulation,cousreCount,hallCount):\n",
    "    min=math.inf\n",
    "    max=math.inf\n",
    "    for i in range(len(listPopulation)):\n",
    "        if min>fitnessFinder(cousreAllocation,commonStudent,hallAllocation,listPopulation[i],cousreCount,hallCount):\n",
    "            min=fitnessFinder(cousreAllocation,commonStudent,hallAllocation,listPopulation[i],cousreCount,hallCount)\n",
    "            minIndex=i\n",
    "    for i in range(len(listPopulation)):\n",
    "        if max>fitnessFinder(cousreAllocation,commonStudent,hallAllocation,listPopulation[i],cousreCount,hallCount) and minIndex!=i:\n",
    "            max=fitnessFinder(cousreAllocation,commonStudent,hallAllocation,listPopulation[i],cousreCount,hallCount)\n",
    "            maxIndex=i\n",
    "    if(max==0 or min==0):\n",
    "        return\n",
    "    if min>max:\n",
    "        temp=maxIndex\n",
    "        maxIndex=minIndex\n",
    "        minIndex=temp\n",
    "    swapRowIndexS=random.randint(0,cousreCount-1)\n",
    "    swapRowIndexL=random.randint(0,cousreCount-1)\n",
    "    #Swapping the row\n",
    "    temp1=listPopulation[minIndex][swapRowIndexS][1]\n",
    "    temp2=listPopulation[minIndex][swapRowIndexS][2]\n",
    "    listPopulation[minIndex][swapRowIndexS][1]=listPopulation[maxIndex][swapRowIndexL][1]\n",
    "    listPopulation[minIndex][swapRowIndexS][2]=listPopulation[maxIndex][swapRowIndexL][2]\n",
    "    listPopulation[maxIndex][swapRowIndexL][1]=temp1\n",
    "    listPopulation[maxIndex][swapRowIndexL][2]=temp2\n",
    "\n",
    "\n",
    "def mutation(cousreAllocation,commonStudent,hallAllocation,listPopulation,cousreCount,hallCount):\n",
    "    min=math.inf\n",
    "    max=math.inf\n",
    "    for i in range(len(listPopulation)):\n",
    "        if min>fitnessFinder(cousreAllocation,commonStudent,hallAllocation,listPopulation[i],cousreCount,hallCount):\n",
    "            min=fitnessFinder(cousreAllocation,commonStudent,hallAllocation,listPopulation[i],cousreCount,hallCount)\n",
    "            minIndex=i\n",
    "    for i in range(len(listPopulation)):\n",
    "        if max>fitnessFinder(cousreAllocation,commonStudent,hallAllocation,listPopulation[i],cousreCount,hallCount) and minIndex!=i:\n",
    "            max=fitnessFinder(cousreAllocation,commonStudent,hallAllocation,listPopulation[i],cousreCount,hallCount)\n",
    "            maxIndex=i\n",
    "    if(max==0 or min==0):\n",
    "        return\n",
    "    if min>max:\n",
    "        minIndex=maxIndex\n",
    "    regenerateRowIndex=random.randint(0,cousreCount-1)\n",
    "    #Mutate the row\n",
    "    listPopulation[minIndex][regenerateRowIndex][1]=random.randint(1,cousreCount)\n",
    "    listPopulation[minIndex][regenerateRowIndex][2]=random.randint(1,hallCount)\n",
    "    \n"
   ]
  },
  {
   "cell_type": "code",
   "execution_count": 11,
   "id": "93fea115",
   "metadata": {},
   "outputs": [
    {
     "name": "stdout",
     "output_type": "stream",
     "text": [
      "\n",
      "####################################################\n",
      "\n",
      "\n",
      "--------------------TimeTable-----------------------\n",
      "\n",
      "\n",
      "####################################################\n",
      "\n",
      "\n",
      "|   Cousre Name    |    TimeSlot    |     Hall No   |\n",
      "\n",
      "|        C 2       |        T 1     |      H 1     |\n",
      "\n",
      "|        C 4       |        T 2     |      H 1     |\n",
      "\n",
      "|        C 5       |        T 2     |      H 2     |\n",
      "\n",
      "|        C 1       |        T 3     |      H 1     |\n",
      "\n",
      "|        C 3       |        T 4     |      H 1     |\n",
      "\n",
      "None\n",
      "\n",
      "====================================================\n",
      "\n",
      "Note: This is clash free TimeTable for  5  Cousres and  2  Exam Halls\n",
      "\n",
      "====================================================\n",
      "\n"
     ]
    }
   ],
   "source": [
    "listPopulation=[]\n",
    "#Generate Population of two\n",
    "for i in range(random.randint(2,10)): #values suppose for min and max of random fuction \n",
    "    listPopulation.append(initialAssignmentOfHall(cousreCount,hallCount))\n",
    "    #print(listPopulation[i])\n",
    "\n",
    "\n",
    "#print(cousreAllocation,'cousreAllocate')\n",
    "#rint(commonStudent,'commonStudent')\n",
    "#print(hallAllocation,'hallAllocation')\n",
    "\n",
    "for i in range(10000):\n",
    "    #for crossover\n",
    "    CrossOver(cousreAllocation,commonStudent,hallAllocation,listPopulation,cousreCount,hallCount)\n",
    "    min=math.inf\n",
    "    minIndex=0\n",
    "    #if solution found\n",
    "    for j in range(len(listPopulation)):\n",
    "        if min>fitnessFinder(cousreAllocation,commonStudent,hallAllocation,listPopulation[j],cousreCount,hallCount):\n",
    "            min=fitnessFinder(cousreAllocation,commonStudent,hallAllocation,listPopulation[j],cousreCount,hallCount)\n",
    "            minIndex=j\n",
    "    if(min==0):\n",
    "        i=100\n",
    "        print(printTimeTable(listPopulation[minIndex]))\n",
    "        print('\\n====================================================\\n')\n",
    "        print('*Note: This is clash free TimeTable for ',cousreCount,' Cousres and ',hallCount,' Exam Halls')\n",
    "        print('\\n====================================================\\n')\n",
    "        break\n",
    "    #for mutation\n",
    "    mutation(cousreAllocation,commonStudent,hallAllocation,listPopulation,cousreCount,hallCount)\n",
    "    #if solution found\n",
    "    min=math.inf\n",
    "    minIndex=0\n",
    "    for j in range(len(listPopulation)):\n",
    "        if min>fitnessFinder(cousreAllocation,commonStudent,hallAllocation,listPopulation[j],cousreCount,hallCount):\n",
    "            min=fitnessFinder(cousreAllocation,commonStudent,hallAllocation,listPopulation[j],cousreCount,hallCount)\n",
    "            minIndex=j\n",
    "    if(min==0):\n",
    "        i=100\n",
    "        print(printTimeTable(listPopulation[minIndex]))\n",
    "        print('\\n====================================================\\n')\n",
    "        print('Note: This is clash free TimeTable for ',cousreCount,' Cousres and ',hallCount,' Exam Halls')\n",
    "        print('\\n====================================================\\n')\n",
    "        break\n"
   ]
  },
  {
   "cell_type": "code",
   "execution_count": null,
   "id": "10db6783",
   "metadata": {},
   "outputs": [],
   "source": []
  }
 ],
 "metadata": {
  "kernelspec": {
   "display_name": "Python 3 (ipykernel)",
   "language": "python",
   "name": "python3"
  },
  "language_info": {
   "codemirror_mode": {
    "name": "ipython",
    "version": 3
   },
   "file_extension": ".py",
   "mimetype": "text/x-python",
   "name": "python",
   "nbconvert_exporter": "python",
   "pygments_lexer": "ipython3",
   "version": "3.9.16"
  }
 },
 "nbformat": 4,
 "nbformat_minor": 5
}
